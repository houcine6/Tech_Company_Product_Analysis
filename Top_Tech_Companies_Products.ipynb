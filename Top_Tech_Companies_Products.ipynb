{
 "cells": [
  {
   "cell_type": "markdown",
   "metadata": {},
   "source": [
    "## Products of Top Tech Companies Analysis"
   ]
  },
  {
   "cell_type": "code",
   "execution_count": 179,
   "metadata": {},
   "outputs": [],
   "source": [
    "import pandas as pd\n",
    "import numpy as np\n",
    "\n",
    "import matplotlib.pyplot as plt\n",
    "import seaborn as sns"
   ]
  },
  {
   "cell_type": "code",
   "execution_count": 180,
   "metadata": {},
   "outputs": [],
   "source": [
    "df_Amazon = pd.read_csv('Amazon Products - Sheet1.csv')\n",
    "df_Apple = pd.read_csv('Apple Products - Sheet1.csv')\n",
    "df_Baidu = pd.read_csv('Baidu Products - Sheet1.csv')\n",
    "df_ByteDance = pd.read_csv('ByteDance Products - Sheet1.csv')\n",
    "df_Google = pd.read_csv('Google Products - Sheet1.csv')\n",
    "df_Meta = pd.read_csv('Meta Products - Sheet1.csv')\n",
    "df_Microsoft = pd.read_csv('Microsoft Products - Sheet1.csv')\n",
    "df_Tencent = pd.read_csv('Tencent Products - Sheet1.csv')\n",
    "df_Yandex = pd.read_csv('Yandex Products - Sheet1.csv')"
   ]
  },
  {
   "cell_type": "code",
   "execution_count": 181,
   "metadata": {},
   "outputs": [
    {
     "name": "stdout",
     "output_type": "stream",
     "text": [
      "Amazon Products:\n"
     ]
    },
    {
     "data": {
      "text/html": [
       "<div>\n",
       "<style scoped>\n",
       "    .dataframe tbody tr th:only-of-type {\n",
       "        vertical-align: middle;\n",
       "    }\n",
       "\n",
       "    .dataframe tbody tr th {\n",
       "        vertical-align: top;\n",
       "    }\n",
       "\n",
       "    .dataframe thead th {\n",
       "        text-align: right;\n",
       "    }\n",
       "</style>\n",
       "<table border=\"1\" class=\"dataframe\">\n",
       "  <thead>\n",
       "    <tr style=\"text-align: right;\">\n",
       "      <th></th>\n",
       "      <th>Product Name</th>\n",
       "      <th>Launch Year</th>\n",
       "      <th>Status</th>\n",
       "      <th>What it does?</th>\n",
       "    </tr>\n",
       "  </thead>\n",
       "  <tbody>\n",
       "    <tr>\n",
       "      <th>0</th>\n",
       "      <td>Amazon.com</td>\n",
       "      <td>1994</td>\n",
       "      <td>Active</td>\n",
       "      <td>E-commerce platform</td>\n",
       "    </tr>\n",
       "    <tr>\n",
       "      <th>1</th>\n",
       "      <td>Amazon Prime</td>\n",
       "      <td>2005</td>\n",
       "      <td>Active</td>\n",
       "      <td>Subscription service offering various benefits</td>\n",
       "    </tr>\n",
       "    <tr>\n",
       "      <th>2</th>\n",
       "      <td>Amazon Web Services (AWS)</td>\n",
       "      <td>2006</td>\n",
       "      <td>Active</td>\n",
       "      <td>Cloud computing platform</td>\n",
       "    </tr>\n",
       "    <tr>\n",
       "      <th>3</th>\n",
       "      <td>Kindle</td>\n",
       "      <td>2007</td>\n",
       "      <td>Active</td>\n",
       "      <td>E-reader for electronic books</td>\n",
       "    </tr>\n",
       "    <tr>\n",
       "      <th>4</th>\n",
       "      <td>Amazon Echo</td>\n",
       "      <td>2014</td>\n",
       "      <td>Active</td>\n",
       "      <td>Smart speaker with virtual assistant (Alexa)</td>\n",
       "    </tr>\n",
       "  </tbody>\n",
       "</table>\n",
       "</div>"
      ],
      "text/plain": [
       "                Product Name  Launch Year  Status  \\\n",
       "0                 Amazon.com         1994  Active   \n",
       "1               Amazon Prime         2005  Active   \n",
       "2  Amazon Web Services (AWS)         2006  Active   \n",
       "3                     Kindle         2007  Active   \n",
       "4                Amazon Echo         2014  Active   \n",
       "\n",
       "                                    What it does?  \n",
       "0                             E-commerce platform  \n",
       "1  Subscription service offering various benefits  \n",
       "2                        Cloud computing platform  \n",
       "3                   E-reader for electronic books  \n",
       "4    Smart speaker with virtual assistant (Alexa)  "
      ]
     },
     "execution_count": 181,
     "metadata": {},
     "output_type": "execute_result"
    }
   ],
   "source": [
    "# Display the head of each DataFrame\n",
    "print(\"Amazon Products:\")\n",
    "df_Amazon.head()"
   ]
  },
  {
   "cell_type": "code",
   "execution_count": 182,
   "metadata": {},
   "outputs": [],
   "source": [
    "# Add a new column named \"company\" to each DataFrame\n",
    "df_Amazon['company'] = 'Amazon'\n",
    "df_Apple['company'] = 'Apple'\n",
    "df_Baidu['company'] = 'Baidu'\n",
    "df_ByteDance['company'] = 'ByteDance'\n",
    "df_Google['company'] = 'Google'\n",
    "df_Meta['company'] = 'Meta'\n",
    "df_Microsoft['company'] = 'Microsoft'\n",
    "df_Tencent['company'] = 'Tencent'\n",
    "df_Yandex['company'] = 'Yandex'"
   ]
  },
  {
   "cell_type": "code",
   "execution_count": 183,
   "metadata": {},
   "outputs": [
    {
     "name": "stdout",
     "output_type": "stream",
     "text": [
      "Combined DataFrame:\n"
     ]
    },
    {
     "data": {
      "text/html": [
       "<div>\n",
       "<style scoped>\n",
       "    .dataframe tbody tr th:only-of-type {\n",
       "        vertical-align: middle;\n",
       "    }\n",
       "\n",
       "    .dataframe tbody tr th {\n",
       "        vertical-align: top;\n",
       "    }\n",
       "\n",
       "    .dataframe thead th {\n",
       "        text-align: right;\n",
       "    }\n",
       "</style>\n",
       "<table border=\"1\" class=\"dataframe\">\n",
       "  <thead>\n",
       "    <tr style=\"text-align: right;\">\n",
       "      <th></th>\n",
       "      <th>Product Name</th>\n",
       "      <th>Launch Year</th>\n",
       "      <th>Status</th>\n",
       "      <th>What it does?</th>\n",
       "      <th>company</th>\n",
       "    </tr>\n",
       "  </thead>\n",
       "  <tbody>\n",
       "    <tr>\n",
       "      <th>0</th>\n",
       "      <td>Amazon.com</td>\n",
       "      <td>1994</td>\n",
       "      <td>Active</td>\n",
       "      <td>E-commerce platform</td>\n",
       "      <td>Amazon</td>\n",
       "    </tr>\n",
       "    <tr>\n",
       "      <th>1</th>\n",
       "      <td>Amazon Prime</td>\n",
       "      <td>2005</td>\n",
       "      <td>Active</td>\n",
       "      <td>Subscription service offering various benefits</td>\n",
       "      <td>Amazon</td>\n",
       "    </tr>\n",
       "    <tr>\n",
       "      <th>2</th>\n",
       "      <td>Amazon Web Services (AWS)</td>\n",
       "      <td>2006</td>\n",
       "      <td>Active</td>\n",
       "      <td>Cloud computing platform</td>\n",
       "      <td>Amazon</td>\n",
       "    </tr>\n",
       "    <tr>\n",
       "      <th>3</th>\n",
       "      <td>Kindle</td>\n",
       "      <td>2007</td>\n",
       "      <td>Active</td>\n",
       "      <td>E-reader for electronic books</td>\n",
       "      <td>Amazon</td>\n",
       "    </tr>\n",
       "    <tr>\n",
       "      <th>4</th>\n",
       "      <td>Amazon Echo</td>\n",
       "      <td>2014</td>\n",
       "      <td>Active</td>\n",
       "      <td>Smart speaker with virtual assistant (Alexa)</td>\n",
       "      <td>Amazon</td>\n",
       "    </tr>\n",
       "    <tr>\n",
       "      <th>5</th>\n",
       "      <td>Amazon Fire TV</td>\n",
       "      <td>2014</td>\n",
       "      <td>Active</td>\n",
       "      <td>Streaming media player and smart TV platform</td>\n",
       "      <td>Amazon</td>\n",
       "    </tr>\n",
       "    <tr>\n",
       "      <th>6</th>\n",
       "      <td>Amazon Fire Tablet</td>\n",
       "      <td>2011</td>\n",
       "      <td>Active</td>\n",
       "      <td>Tablet computer</td>\n",
       "      <td>Amazon</td>\n",
       "    </tr>\n",
       "    <tr>\n",
       "      <th>7</th>\n",
       "      <td>Audible</td>\n",
       "      <td>1995</td>\n",
       "      <td>Active</td>\n",
       "      <td>Audiobook and spoken-word entertainment</td>\n",
       "      <td>Amazon</td>\n",
       "    </tr>\n",
       "    <tr>\n",
       "      <th>8</th>\n",
       "      <td>Amazon Fresh</td>\n",
       "      <td>2007</td>\n",
       "      <td>Active</td>\n",
       "      <td>Grocery delivery and pickup service</td>\n",
       "      <td>Amazon</td>\n",
       "    </tr>\n",
       "    <tr>\n",
       "      <th>9</th>\n",
       "      <td>Amazon Pantry</td>\n",
       "      <td>2014</td>\n",
       "      <td>Active (Limited)</td>\n",
       "      <td>Grocery and household items delivery</td>\n",
       "      <td>Amazon</td>\n",
       "    </tr>\n",
       "  </tbody>\n",
       "</table>\n",
       "</div>"
      ],
      "text/plain": [
       "                Product Name Launch Year            Status  \\\n",
       "0                 Amazon.com        1994            Active   \n",
       "1               Amazon Prime        2005            Active   \n",
       "2  Amazon Web Services (AWS)        2006            Active   \n",
       "3                     Kindle        2007            Active   \n",
       "4                Amazon Echo        2014            Active   \n",
       "5             Amazon Fire TV        2014            Active   \n",
       "6         Amazon Fire Tablet        2011            Active   \n",
       "7                    Audible        1995            Active   \n",
       "8               Amazon Fresh        2007            Active   \n",
       "9              Amazon Pantry        2014  Active (Limited)   \n",
       "\n",
       "                                    What it does? company  \n",
       "0                             E-commerce platform  Amazon  \n",
       "1  Subscription service offering various benefits  Amazon  \n",
       "2                        Cloud computing platform  Amazon  \n",
       "3                   E-reader for electronic books  Amazon  \n",
       "4    Smart speaker with virtual assistant (Alexa)  Amazon  \n",
       "5    Streaming media player and smart TV platform  Amazon  \n",
       "6                                 Tablet computer  Amazon  \n",
       "7         Audiobook and spoken-word entertainment  Amazon  \n",
       "8             Grocery delivery and pickup service  Amazon  \n",
       "9            Grocery and household items delivery  Amazon  "
      ]
     },
     "execution_count": 183,
     "metadata": {},
     "output_type": "execute_result"
    }
   ],
   "source": [
    "# Combine all DataFrames into one\n",
    "df = pd.concat([df_Amazon, df_Apple, df_Baidu, df_ByteDance, df_Google, df_Meta, df_Microsoft, df_Tencent, df_Yandex], ignore_index=True)\n",
    "\n",
    "# Display the combined DataFrame\n",
    "print(\"Combined DataFrame:\")\n",
    "df.head(10)"
   ]
  },
  {
   "cell_type": "code",
   "execution_count": 184,
   "metadata": {},
   "outputs": [
    {
     "name": "stdout",
     "output_type": "stream",
     "text": [
      "<class 'pandas.core.frame.DataFrame'>\n",
      "RangeIndex: 294 entries, 0 to 293\n",
      "Data columns (total 5 columns):\n",
      " #   Column         Non-Null Count  Dtype \n",
      "---  ------         --------------  ----- \n",
      " 0   Product Name   294 non-null    object\n",
      " 1   Launch Year    294 non-null    object\n",
      " 2   Status         294 non-null    object\n",
      " 3   What it does?  294 non-null    object\n",
      " 4   company        294 non-null    object\n",
      "dtypes: object(5)\n",
      "memory usage: 11.6+ KB\n"
     ]
    }
   ],
   "source": [
    "df.info()"
   ]
  },
  {
   "cell_type": "code",
   "execution_count": 185,
   "metadata": {},
   "outputs": [
    {
     "data": {
      "text/html": [
       "<div>\n",
       "<style scoped>\n",
       "    .dataframe tbody tr th:only-of-type {\n",
       "        vertical-align: middle;\n",
       "    }\n",
       "\n",
       "    .dataframe tbody tr th {\n",
       "        vertical-align: top;\n",
       "    }\n",
       "\n",
       "    .dataframe thead th {\n",
       "        text-align: right;\n",
       "    }\n",
       "</style>\n",
       "<table border=\"1\" class=\"dataframe\">\n",
       "  <thead>\n",
       "    <tr style=\"text-align: right;\">\n",
       "      <th></th>\n",
       "      <th>Product Name</th>\n",
       "      <th>Launch Year</th>\n",
       "      <th>Status</th>\n",
       "      <th>What it does?</th>\n",
       "      <th>company</th>\n",
       "    </tr>\n",
       "  </thead>\n",
       "  <tbody>\n",
       "    <tr>\n",
       "      <th>count</th>\n",
       "      <td>294</td>\n",
       "      <td>294</td>\n",
       "      <td>294</td>\n",
       "      <td>294</td>\n",
       "      <td>294</td>\n",
       "    </tr>\n",
       "    <tr>\n",
       "      <th>unique</th>\n",
       "      <td>289</td>\n",
       "      <td>65</td>\n",
       "      <td>8</td>\n",
       "      <td>244</td>\n",
       "      <td>9</td>\n",
       "    </tr>\n",
       "    <tr>\n",
       "      <th>top</th>\n",
       "      <td>Yandex.Translate</td>\n",
       "      <td>2015</td>\n",
       "      <td>Active</td>\n",
       "      <td>Short-form video app</td>\n",
       "      <td>Yandex</td>\n",
       "    </tr>\n",
       "    <tr>\n",
       "      <th>freq</th>\n",
       "      <td>3</td>\n",
       "      <td>14</td>\n",
       "      <td>275</td>\n",
       "      <td>6</td>\n",
       "      <td>40</td>\n",
       "    </tr>\n",
       "  </tbody>\n",
       "</table>\n",
       "</div>"
      ],
      "text/plain": [
       "            Product Name  Launch Year  Status         What it does? company\n",
       "count                294          294     294                   294     294\n",
       "unique               289           65       8                   244       9\n",
       "top     Yandex.Translate         2015  Active  Short-form video app  Yandex\n",
       "freq                   3           14     275                     6      40"
      ]
     },
     "execution_count": 185,
     "metadata": {},
     "output_type": "execute_result"
    }
   ],
   "source": [
    "df.describe()"
   ]
  },
  {
   "cell_type": "code",
   "execution_count": 186,
   "metadata": {},
   "outputs": [
    {
     "name": "stdout",
     "output_type": "stream",
     "text": [
      "Duplicated Rows:\n"
     ]
    },
    {
     "data": {
      "text/html": [
       "<div>\n",
       "<style scoped>\n",
       "    .dataframe tbody tr th:only-of-type {\n",
       "        vertical-align: middle;\n",
       "    }\n",
       "\n",
       "    .dataframe tbody tr th {\n",
       "        vertical-align: top;\n",
       "    }\n",
       "\n",
       "    .dataframe thead th {\n",
       "        text-align: right;\n",
       "    }\n",
       "</style>\n",
       "<table border=\"1\" class=\"dataframe\">\n",
       "  <thead>\n",
       "    <tr style=\"text-align: right;\">\n",
       "      <th></th>\n",
       "      <th>Product Name</th>\n",
       "      <th>Launch Year</th>\n",
       "      <th>Status</th>\n",
       "      <th>What it does?</th>\n",
       "      <th>company</th>\n",
       "    </tr>\n",
       "  </thead>\n",
       "  <tbody>\n",
       "    <tr>\n",
       "      <th>27</th>\n",
       "      <td>Amazon Pharmacy</td>\n",
       "      <td>2020</td>\n",
       "      <td>Active</td>\n",
       "      <td>Online prescription medication ordering and de...</td>\n",
       "      <td>Amazon</td>\n",
       "    </tr>\n",
       "    <tr>\n",
       "      <th>152</th>\n",
       "      <td>Google Photos</td>\n",
       "      <td>2015</td>\n",
       "      <td>Active</td>\n",
       "      <td>Photo and video storage and sharing</td>\n",
       "      <td>Google</td>\n",
       "    </tr>\n",
       "    <tr>\n",
       "      <th>265</th>\n",
       "      <td>Yandex.Translate</td>\n",
       "      <td>2010</td>\n",
       "      <td>Active</td>\n",
       "      <td>Language translation service</td>\n",
       "      <td>Yandex</td>\n",
       "    </tr>\n",
       "    <tr>\n",
       "      <th>273</th>\n",
       "      <td>Yandex.Translate</td>\n",
       "      <td>2010</td>\n",
       "      <td>Active</td>\n",
       "      <td>Language translation service</td>\n",
       "      <td>Yandex</td>\n",
       "    </tr>\n",
       "    <tr>\n",
       "      <th>274</th>\n",
       "      <td>Yandex.Navigator</td>\n",
       "      <td>2012</td>\n",
       "      <td>Active</td>\n",
       "      <td>Navigation app</td>\n",
       "      <td>Yandex</td>\n",
       "    </tr>\n",
       "  </tbody>\n",
       "</table>\n",
       "</div>"
      ],
      "text/plain": [
       "         Product Name Launch Year  Status  \\\n",
       "27    Amazon Pharmacy        2020  Active   \n",
       "152     Google Photos        2015  Active   \n",
       "265  Yandex.Translate        2010  Active   \n",
       "273  Yandex.Translate        2010  Active   \n",
       "274  Yandex.Navigator        2012  Active   \n",
       "\n",
       "                                         What it does? company  \n",
       "27   Online prescription medication ordering and de...  Amazon  \n",
       "152                Photo and video storage and sharing  Google  \n",
       "265                       Language translation service  Yandex  \n",
       "273                       Language translation service  Yandex  \n",
       "274                                     Navigation app  Yandex  "
      ]
     },
     "execution_count": 186,
     "metadata": {},
     "output_type": "execute_result"
    }
   ],
   "source": [
    "# Find and display all duplicated rows in the DataFrame\n",
    "duplicates = df[df.duplicated()]\n",
    "print(\"Duplicated Rows:\")\n",
    "duplicates"
   ]
  },
  {
   "cell_type": "code",
   "execution_count": 187,
   "metadata": {},
   "outputs": [],
   "source": [
    "index_to_drop = 274\n",
    "\n",
    "# Drop the row with the specified index\n",
    "df = df.drop(index_to_drop)\n",
    "\n",
    "# Reset the index after dropping the row\n",
    "df = df.reset_index(drop=True)"
   ]
  },
  {
   "cell_type": "code",
   "execution_count": 188,
   "metadata": {},
   "outputs": [
    {
     "data": {
      "text/plain": [
       "array(['Active', 'Active (Limited)', 'Discontinued', 'Merged with TikTok',\n",
       "       'Acquired by ByteDance in 2017', 'Acquired', 'Active (Beta)',\n",
       "       'Upcoming'], dtype=object)"
      ]
     },
     "execution_count": 188,
     "metadata": {},
     "output_type": "execute_result"
    }
   ],
   "source": [
    "df.Status.unique()"
   ]
  },
  {
   "cell_type": "code",
   "execution_count": 189,
   "metadata": {},
   "outputs": [
    {
     "name": "stdout",
     "output_type": "stream",
     "text": [
      "Updated 'Status' column:\n"
     ]
    },
    {
     "data": {
      "text/plain": [
       "array(['Active', 'Discontinued'], dtype=object)"
      ]
     },
     "execution_count": 189,
     "metadata": {},
     "output_type": "execute_result"
    }
   ],
   "source": [
    "# Mapping the various status values to 'Active' or 'Discontinued'\n",
    "status_mapping = {\n",
    "    'Active': 'Active',\n",
    "    'Active (Limited)': 'Active',\n",
    "    'Discontinued': 'Discontinued',\n",
    "    'Merged with TikTok': 'Active',\n",
    "    'Acquired by ByteDance in 2017': 'Active',\n",
    "    'Acquired': 'Active',\n",
    "    'Active (Beta)': 'Active',\n",
    "    'Upcoming': 'Active'\n",
    "}\n",
    "\n",
    "# Apply the mapping to the 'Status' column\n",
    "df['Status'] = df['Status'].replace(status_mapping)\n",
    "\n",
    "print(\"Updated 'Status' column:\")\n",
    "df['Status'].unique()"
   ]
  },
  {
   "cell_type": "code",
   "execution_count": 190,
   "metadata": {},
   "outputs": [
    {
     "data": {
      "text/plain": [
       "array([1994., 2005., 2006., 2007., 2014., 2011., 1995., 2010., 1980.,\n",
       "       1999., 2013., 1990., 2018., 2016., 2003., 2002., 2020., 2019.,\n",
       "       2015., 2017., 2012., 1984., 2008., 1998., 2001., 2004., 2021.,\n",
       "       2000., 2009., 1997.,   nan, 1985., 1989., 1982., 1992., 1993.])"
      ]
     },
     "execution_count": 190,
     "metadata": {},
     "output_type": "execute_result"
    }
   ],
   "source": [
    "# Convert the 'Launch Year' column to integer\n",
    "df['Launch Year'] = pd.to_numeric(df['Launch Year'], errors='coerce', downcast='integer')\n",
    "\n",
    "df['Launch Year'].unique()"
   ]
  },
  {
   "cell_type": "code",
   "execution_count": 191,
   "metadata": {},
   "outputs": [
    {
     "data": {
      "text/plain": [
       "Product Name     0\n",
       "Launch Year      6\n",
       "Status           0\n",
       "What it does?    0\n",
       "company          0\n",
       "dtype: int64"
      ]
     },
     "execution_count": 191,
     "metadata": {},
     "output_type": "execute_result"
    }
   ],
   "source": [
    "df.isna().sum()"
   ]
  },
  {
   "cell_type": "code",
   "execution_count": 192,
   "metadata": {},
   "outputs": [],
   "source": [
    "df = df.dropna()"
   ]
  },
  {
   "cell_type": "code",
   "execution_count": 193,
   "metadata": {},
   "outputs": [
    {
     "name": "stdout",
     "output_type": "stream",
     "text": [
      "<class 'pandas.core.frame.DataFrame'>\n",
      "Int64Index: 287 entries, 0 to 292\n",
      "Data columns (total 5 columns):\n",
      " #   Column         Non-Null Count  Dtype  \n",
      "---  ------         --------------  -----  \n",
      " 0   Product Name   287 non-null    object \n",
      " 1   Launch Year    287 non-null    float64\n",
      " 2   Status         287 non-null    object \n",
      " 3   What it does?  287 non-null    object \n",
      " 4   company        287 non-null    object \n",
      "dtypes: float64(1), object(4)\n",
      "memory usage: 13.5+ KB\n"
     ]
    }
   ],
   "source": [
    "df.info()"
   ]
  },
  {
   "cell_type": "code",
   "execution_count": 194,
   "metadata": {},
   "outputs": [
    {
     "data": {
      "image/png": "[encoded data removed]",
      "text/plain": [
       "<Figure size 1200x600 with 1 Axes>"
      ]
     },
     "metadata": {},
     "output_type": "display_data"
    },
    {
     "data": {
      "image/png": "[encoded data removed]",
      "text/plain": [
       "<Figure size 1200x600 with 1 Axes>"
      ]
     },
     "metadata": {},
     "output_type": "display_data"
    }
   ],
   "source": [
    "df['Launch Year'] = df['Launch Year'].astype('Int64', errors='ignore')\n",
    "\n",
    "# Create a line plot to visualize the distribution of product launches by year\n",
    "plt.figure(figsize=(12, 6))\n",
    "sns.countplot(x='Launch Year', data=df.sort_values('Launch Year'))\n",
    "plt.title('Distribution of Product Launches by Year')\n",
    "plt.xlabel('Launch Year')\n",
    "plt.ylabel('Number of Products Launched')\n",
    "plt.xticks(rotation=45)\n",
    "plt.show()\n",
    "\n",
    "# Create a line plot to compare the number of active and discontinued products over time\n",
    "plt.figure(figsize=(12, 6))\n",
    "sns.countplot(x='Launch Year', hue='Status', data=df.sort_values('Launch Year'))\n",
    "plt.title('Comparison of Active and Discontinued Products Over Time')\n",
    "plt.xlabel('Launch Year')\n",
    "plt.ylabel('Number of Products')\n",
    "plt.legend(title='Status')\n",
    "plt.xticks(rotation=45)\n",
    "plt.show()"
   ]
  },
  {
   "cell_type": "code",
   "execution_count": 195,
   "metadata": {},
   "outputs": [],
   "source": [
    "df.to_csv('cleaned_data.csv')"
   ]
  }
 ],
 "metadata": {
  "kernelspec": {
   "display_name": "Python 3",
   "language": "python",
   "name": "python3"
  },
  "language_info": {
   "codemirror_mode": {
    "name": "ipython",
    "version": 3
   },
   "file_extension": ".py",
   "mimetype": "text/x-python",
   "name": "python",
   "nbconvert_exporter": "python",
   "pygments_lexer": "ipython3",
   "version": "3.10.8"
  }
 },
 "nbformat": 4,
 "nbformat_minor": 2
}
